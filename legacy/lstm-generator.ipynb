{
 "cells": [
  {
   "cell_type": "code",
   "execution_count": 1,
   "metadata": {
    "pycharm": {
     "is_executing": false
    }
   },
   "outputs": [],
   "source": [
    "# d6592\n",
    "# The actual code to generate some Bach\n",
    "\n",
    "bar_length = 96\n",
    "bars = 8\n",
    "NOTES_PER_OCTAVE = 12\n",
    "MIDI_INPUTS = 128  # Length the rolls pitches must be\n",
    "MIDDLE_C = 64\n",
    "num_notes_above_c = int(1.8 * NOTES_PER_OCTAVE)  # Centered around C, how many on either side\n",
    "num_notes_below_c = int(2.5 * NOTES_PER_OCTAVE)\n",
    "num_pitches = num_notes_above_c + num_notes_below_c\n",
    "\n",
    "lookback = 96*4  # How far back can the model look? (Roughly four bars)\n",
    "step = 4  # Skip through it a bit\n",
    "generated_length = bar_length * 4\n",
    "\n",
    "import numpy as np\n",
    "import pypianoroll as pr\n",
    "from pypianoroll import Track, Multitrack\n",
    "%matplotlib inline\n",
    "import matplotlib.pyplot as plt \n",
    "import os\n",
    "\n",
    "def display_pianoroll(roll, title='Piano Roll'):\n",
    "    plt.figure(figsize=(8,6))\n",
    "    plt.matshow(roll, fignum=1, aspect='auto', cmap='plasma')\n",
    "    plt.xlabel('Pitch')\n",
    "    plt.ylabel('Time')\n",
    "    plt.title(title)\n",
    "    plt.show()\n"
   ]
  },
  {
   "cell_type": "code",
   "execution_count": 2,
   "metadata": {
    "pycharm": {
     "is_executing": false,
     "name": "#%%\n"
    }
   },
   "outputs": [
    {
     "name": "stdout",
     "text": [
      "Found 36 files: ['1080-c12.mid', 'jsbwv552.mid', 'bwv539_2.mid', 'bwv582.mid', 'bwv539_1.mid', 'bwv525-1.mid', 'jsbwv541.mid', '1080-c01.mid', 'bwv525-2.mid', 'jsbwv543.mid', 'bwv525-3.mid', '1080-c02.mid', 'bwv1028.mid', 'bwv1029.mid', '1080c02b.mid', 'bwv537.mid', 'jsbwv533.mid', 'jsbwv532.mid', 'bwv686.mid', 'bwv653.mid', 'bwv733.mid', 'bwv552p.mid', 'bwv552f.mid', 'bwv1027.mid', 'bwv539.mid', 'bwv530-2.mid', 'bwv529-3.mid', 'bwv529-2.mid', 'bwv588.mid', 'bwv530-3.mid', 'bwv530-1.mid', 'bwv529-1.mid', 'goldberg.mid', 'jsbwv549.mid', 'bwv0541p.mid', 'bwv0541f.mid']\nLower bound 34.\nUpper bound 85.\nNum pitches 51\n",
      "1080-c12.mid input shape: (6432, 128)\n...Refined down 77 dimensions with 0 note loss.\n...Loss of 0.0 %\n...Output shape: (6432, 51)\n",
      "jsbwv552.mid input shape: (36624, 128)\n...Refined down 77 dimensions with 3536 note loss.\n...Loss of 3.05 %\n...Output shape: (36624, 51)\nextended output shape (43056, 51)\n"
     ],
     "output_type": "stream"
    },
    {
     "data": {
      "text/plain": "<Figure size 576x432 with 1 Axes>",
      "image/png": "[encoded data removed]"
     },
     "metadata": {
      "needs_background": "light"
     },
     "output_type": "display_data"
    }
   ],
   "source": [
    "root = '/Users/James/PycharmProjects/deep-learning/music/lstm-generation-bach'\n",
    "#root = '/home/ubuntu/deep-learning/music/lstm-generation-bach'\n",
    "midi_dir = os.path.join(root, 'midi')\n",
    "\n",
    "fnames = os.listdir(midi_dir)\n",
    "print('Found', len(fnames),'files:', fnames)\n",
    "\n",
    "print('Lower bound %s.' % (MIDDLE_C-num_notes_below_c))\n",
    "print('Upper bound %s.' % (MIDDLE_C+num_notes_above_c))\n",
    "print('Num pitches', num_pitches)\n",
    "\n",
    "data = []\n",
    "total_length = 0\n",
    "\n",
    "for fname in fnames[:2]:  # Only get first 3\n",
    "    file = os.path.join(midi_dir, fname)\n",
    "    piano_multitrack = pr.Multitrack(file)\n",
    "    \n",
    "    piano_multitrack.trim_trailing_silence()\n",
    "    piano_multitrack.binarize()\n",
    "    \n",
    "    pianoroll = piano_multitrack.get_merged_pianoroll()\n",
    "    \n",
    "    #display_pianoroll(pianoroll, title='RAW')\n",
    "    \n",
    "    print(fname, 'input shape:', pianoroll.shape)\n",
    "    \n",
    "    # Adjust so that there are only the selected notes present\n",
    "    refined = pianoroll[:, MIDDLE_C-num_notes_below_c:MIDDLE_C+num_notes_above_c]\n",
    "    \n",
    "    #display_pianoroll(refined, title='Refined')\n",
    "    \n",
    "    loss = np.sum(pianoroll)- np.sum(refined)\n",
    "    print('...Refined down',128-num_notes_above_c-num_notes_below_c, 'dimensions with',loss , 'note loss.')\n",
    "    print('...Loss of', (loss/np.sum(pianoroll)*100).__round__(2),'%')\n",
    "    print('...Output shape:', refined.shape)\n",
    "    \n",
    "    data.append(refined)\n",
    "    total_length += refined.shape[0]\n",
    "    \n",
    "extended = np.zeros((total_length, data[0].shape[1]), dtype='bool')\n",
    "print('extended output shape', extended.shape)\n",
    "\n",
    "index = 0\n",
    "for sequence in data:\n",
    "    extended[index:index+sequence.shape[0], :] = sequence\n",
    "    index += sequence.shape[0]\n",
    "display_pianoroll(extended, title='Extended shape')"
   ]
  },
  {
   "cell_type": "code",
   "execution_count": 3,
   "metadata": {
    "pycharm": {
     "is_executing": false,
     "name": "#%%\n"
    }
   },
   "outputs": [
    {
     "name": "stdout",
     "text": [
      "10668 individual phrases.\n"
     ],
     "output_type": "stream"
    }
   ],
   "source": [
    "# Now convert to phrases with a corresponding label\n",
    "phrases = []\n",
    "next_notes = []\n",
    "for i in range(0, extended.shape[0]-lookback, step):\n",
    "    phrases.append(extended[i:i+lookback, :])  # Get the block\n",
    "    next_notes.append(extended[i+lookback, :])  # The next line\n",
    "\n",
    "print(len(phrases), 'individual phrases.')\n",
    "\n",
    "# Vectorisation\n",
    "x = np.zeros((len(phrases), lookback, num_pitches), dtype='bool')\n",
    "y = np.zeros((len(phrases), num_pitches), dtype='bool')\n",
    "\n",
    "for i, phrase in enumerate(phrases):\n",
    "    x[i, :, :] = phrase\n",
    "    y[i, :] = next_notes[i]"
   ]
  },
  {
   "cell_type": "code",
   "execution_count": 4,
   "metadata": {
    "pycharm": {
     "is_executing": false,
     "name": "#%%\n"
    }
   },
   "outputs": [
    {
     "name": "stderr",
     "text": [
      "Using TensorFlow backend.\n"
     ],
     "output_type": "stream"
    },
    {
     "name": "stdout",
     "text": [
      "Model: \"sequential_1\"\n_________________________________________________________________\nLayer (type)                 Output Shape              Param #   \n=================================================================\nlstm_1 (LSTM)                (None, 384, 32)           10752     \n_________________________________________________________________\ndense_1 (Dense)              (None, 384, 51)           1683      \n=================================================================\nTotal params: 12,435\nTrainable params: 12,435\nNon-trainable params: 0\n_________________________________________________________________\n"
     ],
     "output_type": "stream"
    }
   ],
   "source": [
    "from keras.models import Sequential\n",
    "from keras import layers\n",
    "from keras.optimizers import RMSprop\n",
    "\n",
    "model = Sequential()\n",
    "model.add(layers.LSTM(32, input_shape=(lookback, num_pitches), return_sequences=True, dropout=0.1, recurrent_dropout=0.3))\n",
    "#model.add(layers.LSTM(64, dropout=0.1, recurrent_dropout=0.3))\n",
    "#model.add(layers.Dense(128, activation='relu'))\n",
    "model.add(layers.Dense(num_pitches, activation='sigmoid'))\n",
    "model.summary()\n",
    "\n",
    "model.compile(loss='mse',  # categorical_crossentropy\n",
    "              optimizer=RMSprop(),\n",
    "              metrics=['acc'])"
   ]
  },
  {
   "cell_type": "code",
   "execution_count": null,
   "metadata": {
    "pycharm": {
     "is_executing": false,
     "name": "#%%\n"
    }
   },
   "outputs": [],
   "source": [
    "from time import time\n",
    "start = time()\n",
    "history = model.fit(x, y,\n",
    "                    epochs=10,\n",
    "                    batch_size=64)\n",
    "print('Saving model.')\n",
    "model.save('first_try.h5')"
   ]
  },
  {
   "cell_type": "code",
   "execution_count": null,
   "metadata": {
    "pycharm": {
     "is_executing": false
    }
   },
   "outputs": [],
   "source": [
    "def plot_values(history):\n",
    "    acc = history.history['acc']\n",
    "    #val_acc = history.history['val_acc']\n",
    "    loss = history.history['loss']\n",
    "    #val_loss = history.history['val_loss']\n",
    "    \n",
    "    epochs = range(1, len(acc)+1)\n",
    "    \n",
    "    plt.plot(epochs, acc, 'bo', label='Training acc')\n",
    "    #plt.plot(epochs, val_acc, 'b-', label='Validation acc')\n",
    "    plt.title('Training accuracy')\n",
    "    plt.legend()\n",
    "    \n",
    "    plt.figure()  # Combines the two graphs\n",
    "    \n",
    "    plt.plot(epochs, loss, 'bo', label='Training loss')\n",
    "    #plt.plot(epochs, val_loss, 'b-', label='Validation loss')\n",
    "    plt.title('Training loss')\n",
    "    plt.legend()\n",
    "    \n",
    "    plt.show()"
   ]
  },
  {
   "cell_type": "code",
   "execution_count": 5,
   "outputs": [
    {
     "name": "stdout",
     "text": [
      "Loaded old model\n"
     ],
     "output_type": "stream"
    }
   ],
   "source": [
    "from keras import models\n",
    "model = models.load_model('first_try.h5')\n",
    "print('Loaded old model')"
   ],
   "metadata": {
    "collapsed": false,
    "pycharm": {
     "name": "#%%\n",
     "is_executing": false
    }
   }
  },
  {
   "cell_type": "code",
   "execution_count": 8,
   "outputs": [
    {
     "name": "stdout",
     "text": [
      "(1, 384, 51)\n"
     ],
     "output_type": "stream"
    }
   ],
   "source": [
    "def extract_music(line, temperature=0.5, threshold=None):\n",
    "    if threshold is not None:\n",
    "        # Adjust the music to be 1 if above the threshold, else 0\n",
    "        split = line - threshold + 0.5  # Center around 0.5\n",
    "        split = np.round(split, 0)\n",
    "        return split\n",
    "        #return np.round(split, 0)\n",
    "    # Otherwise do some randomness!!\n",
    "    #TODO: Add this bit\n",
    "    \n",
    "# Generate some music!\n",
    "import random\n",
    "start_index = random.randint(0, extended.shape[0]-lookback-1)\n",
    "seed = extended[start_index:start_index+lookback, :]\n",
    "seed = np.reshape(seed, (1, seed.shape[0], seed.shape[1]))\n",
    "\n",
    "sampled = seed.copy()\n",
    "\n",
    "output = np.zeros((1, generated_length+lookback, num_pitches))\n",
    "output[0, :lookback, :] = seed\n",
    "\n",
    "#sampled = np.zeros((1, lookback, num_pitches))\n",
    "print(sampled.shape)\n",
    "\n",
    "for i in range(generated_length):\n",
    "    preds = model.predict(sampled, verbose=0)\n",
    "    extracted = extract_music(preds, threshold=0.1)\n",
    "    \n",
    "    output[0,lookback+i] = extracted  # Save the work\n",
    "    sampled[:, :-1] = sampled[:,1:]  # Move it over by one\n",
    "    sampled[0, -1, :] = extracted  # Add it to the last row\n",
    "    \n"
   ],
   "metadata": {
    "collapsed": false,
    "pycharm": {
     "name": "#%%\n",
     "is_executing": false
    }
   }
  },
  {
   "cell_type": "code",
   "execution_count": 9,
   "outputs": [
    {
     "name": "stdout",
     "text": [
      "(1, 768, 51)\n",
      "(768, 128)\n"
     ],
     "output_type": "stream"
    },
    {
     "data": {
      "text/plain": "<Figure size 576x432 with 1 Axes>",
      "image/png": "[encoded data removed]"
     },
     "metadata": {
      "needs_background": "light"
     },
     "output_type": "display_data"
    },
    {
     "data": {
      "text/plain": "<Figure size 576x432 with 1 Axes>",
      "image/png": "[encoded data removed]"
     },
     "metadata": {
      "needs_background": "light"
     },
     "output_type": "display_data"
    }
   ],
   "source": [
    "def process_roll(x):\n",
    "    x = np.reshape(x, (x.shape[1], x.shape[2]))\n",
    "    display_pianoroll(x, title='Original Dimensions')\n",
    "    y = np.zeros((x.shape[0], MIDI_INPUTS))\n",
    "    y[:, MIDDLE_C-num_notes_below_c:MIDDLE_C+num_notes_above_c] = x\n",
    "    display_pianoroll(y, title='Resized Dimensions')\n",
    "    y *= 100  # Make it a bit louder\n",
    "    return y\n",
    "    \n",
    "def save_roll(x, fname='test.mid'):\n",
    "    t = Track(pianoroll=x, program=0, is_drum=False, name='ai gen pianoroll')\n",
    "    mt = Multitrack(tracks=[t], tempo=120.0)\n",
    "    mt.write(fname)\n",
    "\n",
    "test = output.copy()\n",
    "print(test.shape)\n",
    "test = process_roll(test)\n",
    "print(test.shape)\n",
    "\n",
    "save_roll(test)"
   ],
   "metadata": {
    "collapsed": false,
    "pycharm": {
     "name": "#%%\n",
     "is_executing": false
    }
   }
  }
 ],
 "metadata": {
  "kernelspec": {
   "display_name": "Python 3",
   "language": "python",
   "name": "python3"
  },
  "language_info": {
   "codemirror_mode": {
    "name": "ipython",
    "version": 3
   },
   "file_extension": ".py",
   "mimetype": "text/x-python",
   "name": "python",
   "nbconvert_exporter": "python",
   "pygments_lexer": "ipython3",
   "version": "3.6.6"
  },
  "pycharm": {
   "stem_cell": {
    "cell_type": "raw",
    "source": [],
    "metadata": {
     "collapsed": false
    }
   }
  }
 },
 "nbformat": 4,
 "nbformat_minor": 1
}