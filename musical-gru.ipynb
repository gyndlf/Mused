{
 "cells": [
  {
   "cell_type": "code",
   "execution_count": 1,
   "metadata": {},
   "outputs": [],
   "source": [
    "# d6598 \n",
    "# \"I bet computers can't make music\"\n",
    "# - Felonious Gru\n",
    "\n",
    "beat_resolution = 24 # Standard of 24 for full 34 and 44 representation.\n",
    "                    # Dont go below 8 otherwise risk distortion. 12 is a safe spot to end up\n",
    "lookback = beat_resolution * 4 * 2  # Approx 2 bars\n",
    "step = 1  # Skip through it a bit\n",
    "tempo = 60  # Rough tempo of the samples. Only used for accurate timing of the output\n",
    "num_pitches = 50  # Must be even cause odd numbers suck\n",
    "train = False\n",
    "\n",
    "%matplotlib inline\n",
    "import os\n",
    "import functions"
   ]
  },
  {
   "cell_type": "code",
   "execution_count": 2,
   "metadata": {
    "pycharm": {
     "name": "#%%\n"
    }
   },
   "outputs": [
    {
     "name": "stdout",
     "output_type": "stream",
     "text": [
      "Lower bound 39.\n",
      "Upper bound 89.\n",
      "Num pitches 50\n",
      "---\n",
      "goldberg.mid input shape: (153743, 128)\n",
      "...Refined down 78 dimensions with 1815 note loss.\n",
      "...Loss of 0.49 %\n",
      "...Output shape: (153743, 50)\n",
      "Extended output shape (153743, 50)\n"
     ]
    },
    {
     "data": {
      "text/plain": "<Figure size 576x432 with 1 Axes>",
      "image/png": "[encoded data removed]"
     },
     "metadata": {
      "needs_background": "light"
     },
     "output_type": "display_data"
    },
    {
     "name": "stdout",
     "output_type": "stream",
     "text": [
      "153551 individual phrases.\n"
     ]
    }
   ],
   "source": [
    "root = '/Users/James/Projects/PycharmProjects/lstm-generation'\n",
    "#root = '/home/ubuntu/deep-learning/music/lstm-generation-bach'\n",
    "#root = '/content....'\n",
    "\n",
    "midi_dir = os.path.join(root, 'midi')\n",
    "model_dir = os.path.join(root, 'models')\n",
    "\n",
    "trainer = functions.Midi(num_pitches, beat_resolution=beat_resolution, midi_dir=midi_dir)\n",
    "trainer.load_midi(['goldberg.mid'])\n",
    "trainer.display()\n",
    "\n",
    "x, y = trainer.vectorise(lookback, step=1)"
   ]
  },
  {
   "cell_type": "code",
   "execution_count": 3,
   "metadata": {
    "pycharm": {
     "name": "#%%\n"
    }
   },
   "outputs": [
    {
     "name": "stderr",
     "output_type": "stream",
     "text": [
      "2021-07-03 22:12:43.987272: I tensorflow/core/platform/cpu_feature_guard.cc:142] This TensorFlow binary is optimized with oneAPI Deep Neural Network Library (oneDNN) to use the following CPU instructions in performance-critical operations:  AVX2 FMA\n",
      "To enable them in other operations, rebuild TensorFlow with the appropriate compiler flags.\n"
     ]
    },
    {
     "name": "stdout",
     "output_type": "stream",
     "text": [
      "Loaded model \"/Users/James/Projects/PycharmProjects/lstm-generation/models/lstm-v13.h5\"\n"
     ]
    }
   ],
   "source": [
    "if train:\n",
    "    from keras.models import Sequential\n",
    "    from keras import layers\n",
    "    from keras.optimizers import RMSprop\n",
    "\n",
    "    model = Sequential()\n",
    "    model.add(layers.LSTM(256, input_shape=(lookback, num_pitches), return_sequences=True, dropout=0.1, recurrent_dropout=0.2))\n",
    "    model.add(layers.LSTM(128, dropout=0.1, recurrent_dropout=0.2, return_sequences=False))\n",
    "    model.add(layers.Dense(128, activation='relu'))\n",
    "    model.add(layers.Dense(64, activation='relu'))\n",
    "    model.add(layers.Dense(num_pitches, activation='sigmoid'))\n",
    "    model.summary()\n",
    "\n",
    "    model.compile(loss='categorical_crossentropy',  # categorical_crossentropy or mse\n",
    "                  optimizer=RMSprop(),\n",
    "                  metrics=['acc'])\n",
    "\n",
    "    from time import time\n",
    "    begin = time()\n",
    "    for i in range(10):\n",
    "        print('>Epoch batch', i)\n",
    "        tic = time()\n",
    "        history = model.fit(x, y,\n",
    "                            epochs=10,\n",
    "                            batch_size=512,\n",
    "                            verbose=1)\n",
    "        print('Took %s minutes for epoch. %s minutes elapsed.' % (((time()-tic)/60).__round__(2), ((time()-begin)/60).__round__(2)))\n",
    "        functions.save_model(model, model_dir, fname='lstm-v13.h5')\n",
    "    print('Full train took %s minutes.' % ((time()-begin)/60).__round__(2))\n",
    "\n",
    "else:\n",
    "    from keras import models\n",
    "    fname = os.path.join(model_dir, 'lstm-v13.h5')\n",
    "    model = functions.load_model(fname)"
   ]
  },
  {
   "cell_type": "code",
   "execution_count": 4,
   "metadata": {
    "pycharm": {
     "name": "#%%\n"
    }
   },
   "outputs": [
    {
     "name": "stdout",
     "output_type": "stream",
     "text": [
      "Generating with seed index of 25804\n",
      "Generating roll with temp 0.6 and length 768\n"
     ]
    },
    {
     "name": "stderr",
     "output_type": "stream",
     "text": [
      "2021-07-03 22:12:45.042436: I tensorflow/compiler/mlir/mlir_graph_optimization_pass.cc:176] None of the MLIR Optimization Passes are enabled (registered 2)\n",
      "/Users/james/Projects/PycharmProjects/lstm-generation/functions.py:150: RuntimeWarning: divide by zero encountered in log\n",
      "  preds = np.log(preds) / temperature\n"
     ]
    },
    {
     "name": "stdout",
     "output_type": "stream",
     "text": [
      "Roll is cut down to only 50 notes\n",
      "Saving 1 tracks in one file \"generated-v13.mid\".\n",
      "Saved file \"generated-v13.mid\".\n"
     ]
    }
   ],
   "source": [
    "#temps = [0.5, 0.55, 0.6, 0.7]\n",
    "temps = [0.6]  # Was best one\n",
    "outputs = functions.generate_music(model, trainer.roll, lookback, temps, num_pitches, length=lookback*4, noise=True)\n",
    "\n",
    "functions.multi_save(outputs, 'generated-v13.mid')"
   ]
  },
  {
   "cell_type": "code",
   "execution_count": 4,
   "metadata": {},
   "outputs": [],
   "source": []
  }
 ],
 "metadata": {
  "kernelspec": {
   "display_name": "Python 3",
   "language": "python",
   "name": "python3"
  },
  "language_info": {
   "codemirror_mode": {
    "name": "ipython",
    "version": 3
   },
   "file_extension": ".py",
   "mimetype": "text/x-python",
   "name": "python",
   "nbconvert_exporter": "python",
   "pygments_lexer": "ipython3",
   "version": "3.6.6"
  }
 },
 "nbformat": 4,
 "nbformat_minor": 1
}